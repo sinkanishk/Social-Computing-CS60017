{
 "cells": [
  {
   "cell_type": "code",
   "execution_count": 1,
   "id": "f3d680c0",
   "metadata": {},
   "outputs": [
    {
     "name": "stdout",
     "output_type": "stream",
     "text": [
      "\u001b[33mDEPRECATION: Configuring installation scheme with distutils config files is deprecated and will no longer work in the near future. If you are using a Homebrew or Linuxbrew Python, please see discussion at https://github.com/Homebrew/homebrew-core/issues/76621\u001b[0m\n",
      "Collecting networkx\n",
      "  Downloading networkx-2.6.3-py3-none-any.whl (1.9 MB)\n",
      "\u001b[K     |████████████████████████████████| 1.9 MB 3.0 MB/s eta 0:00:01\n",
      "\u001b[?25hInstalling collected packages: networkx\n",
      "\u001b[33mDEPRECATION: Configuring installation scheme with distutils config files is deprecated and will no longer work in the near future. If you are using a Homebrew or Linuxbrew Python, please see discussion at https://github.com/Homebrew/homebrew-core/issues/76621\u001b[0m\n",
      "Successfully installed networkx-2.6.3\n",
      "\u001b[33mWARNING: You are using pip version 21.2.4; however, version 21.3.1 is available.\n",
      "You should consider upgrading via the '/usr/local/opt/python@3.9/bin/python3.9 -m pip install --upgrade pip' command.\u001b[0m\n"
     ]
    }
   ],
   "source": [
    "!pip install networkx"
   ]
  },
  {
   "cell_type": "code",
   "execution_count": 23,
   "id": "25ebbf01",
   "metadata": {},
   "outputs": [],
   "source": [
    "## imports\n",
    "import networkx as nx\n",
    "import itertools\n",
    "import matplotlib.pyplot as plt"
   ]
  },
  {
   "cell_type": "code",
   "execution_count": 7,
   "id": "50b1eb70",
   "metadata": {},
   "outputs": [],
   "source": [
    "## create directories IF_DO_NOT_EXIST\n",
    "from pathlib import Path\n",
    "Path(\"./results\").mkdir(parents=True, exist_ok=True)\n",
    "Path(\"./plots\").mkdir(parents=True, exist_ok=True)\n"
   ]
  },
  {
   "cell_type": "code",
   "execution_count": 128,
   "id": "f6e01942",
   "metadata": {},
   "outputs": [],
   "source": [
    "##read input files\n",
    "football = nx.read_gml(\"./football/football.gml\")\n",
    "polbooks = nx.read_gml(\"./polbooks/polbooks.gml\")"
   ]
  },
  {
   "cell_type": "markdown",
   "id": "65591413",
   "metadata": {},
   "source": [
    "# NEWMAN_METHOD"
   ]
  },
  {
   "cell_type": "code",
   "execution_count": 10,
   "id": "9c75b7c2",
   "metadata": {},
   "outputs": [],
   "source": [
    "## true_number_of_communities\n",
    "polbook_true  = 3\n",
    "football_true = 12"
   ]
  },
  {
   "cell_type": "code",
   "execution_count": 131,
   "id": "1b6057f5",
   "metadata": {},
   "outputs": [],
   "source": [
    "def Q_1_A(dataset, n_true):\n",
    "    from networkx.algorithms import community\n",
    "    community = community.girvan_newman(dataset)\n",
    "    \n",
    "    limited = itertools.takewhile(lambda c: len(c) <= n_true, community)\n",
    "    community = []\n",
    "    \n",
    "    ## store the dendograms\n",
    "    for communities in limited:\n",
    "        community.append((tuple(sorted(c) for c in communities)))\n",
    "    \n",
    "    #sort according to the size of communities formed\n",
    "    community = sorted(community, key=lambda x: len(x), reverse=True)\n",
    "    return sorted(community[0],key=lambda x: len(x), reverse=True)\n",
    "  "
   ]
  },
  {
   "cell_type": "code",
   "execution_count": 132,
   "id": "99c0121a",
   "metadata": {},
   "outputs": [],
   "source": [
    "com_football = Q_1_A(football, football_true)\n",
    "com_polbook  = Q_1_A(polbooks, polbook_true)"
   ]
  },
  {
   "cell_type": "code",
   "execution_count": null,
   "id": "638bb7d0",
   "metadata": {},
   "outputs": [],
   "source": [
    "com_football"
   ]
  },
  {
   "cell_type": "code",
   "execution_count": 134,
   "id": "0f1955e5",
   "metadata": {},
   "outputs": [
    {
     "name": "stdout",
     "output_type": "stream",
     "text": [
      "Dataset: Football\n",
      " Number of communities using Newman-Girvan method:12\n",
      "Dataset: Polbooks\n",
      " Number of communities using Newman-Girvan method:3\n"
     ]
    }
   ],
   "source": [
    "## Composition of Datasets Q-1(A)\n",
    "print(f\"Dataset: {'Football'}\\n Number of communities using Newman-Girvan method:{len(com_football)}\")\n",
    "print(f\"Dataset: {'Polbooks'}\\n Number of communities using Newman-Girvan method:{len(com_polbook)}\")\n"
   ]
  },
  {
   "cell_type": "code",
   "execution_count": 135,
   "id": "bab91556",
   "metadata": {},
   "outputs": [],
   "source": [
    "def Q_1_B(community):\n",
    "    hist = {}\n",
    "    for idx, member in enumerate(community):\n",
    "        if len(member) not in hist.keys():\n",
    "            hist[len(member)] = 1\n",
    "        else:\n",
    "            hist[len(member)] += 1\n",
    "    return hist"
   ]
  },
  {
   "cell_type": "code",
   "execution_count": 136,
   "id": "0c4ed181",
   "metadata": {},
   "outputs": [],
   "source": [
    "def draw_plot(hist, com_name, method_name):\n",
    "\n",
    "    names = sorted(list(hist.keys()))\n",
    "    values = [hist[key] for key in names]\n",
    "    plt.xlabel(\"community_size\")\n",
    "    plt.ylabel(\"Frequency\")\n",
    "    plt.title(\"Distribution of generated communities\")\n",
    "    plt.bar(range(len(hist)), values, tick_label=names)\n",
    "    plt.show()\n",
    "    plt.savefig('./results/'+com_name+'_'+method_name+'_dist.png')\n",
    "    "
   ]
  },
  {
   "cell_type": "code",
   "execution_count": 137,
   "id": "1379e84d",
   "metadata": {},
   "outputs": [
    {
     "data": {
      "image/png": "[encoded data removed]",
      "text/plain": [
       "<Figure size 432x288 with 1 Axes>"
      ]
     },
     "metadata": {
      "needs_background": "light"
     },
     "output_type": "display_data"
    },
    {
     "data": {
      "image/png": "[encoded data removed]",
      "text/plain": [
       "<Figure size 432x288 with 1 Axes>"
      ]
     },
     "metadata": {
      "needs_background": "light"
     },
     "output_type": "display_data"
    },
    {
     "data": {
      "text/plain": [
       "<Figure size 432x288 with 0 Axes>"
      ]
     },
     "metadata": {},
     "output_type": "display_data"
    }
   ],
   "source": [
    "##Q_1_B\n",
    "draw_plot(Q_1_B(com_football),'Football','NEWMAN')\n",
    "draw_plot(Q_1_B(com_polbook),'Polbooks','NEWMAN')"
   ]
  },
  {
   "cell_type": "code",
   "execution_count": 138,
   "id": "d769f04a",
   "metadata": {},
   "outputs": [],
   "source": [
    "def Q_1_C(dataset,com_name,method_name):\n",
    "    community = {}\n",
    "    for node in dataset.nodes(data=True):\n",
    "        n,v = node\n",
    "        com = v[\"value\"]\n",
    "        if com not in community.keys():\n",
    "            community[com] = 1\n",
    "        else:\n",
    "            community[com] += 1\n",
    "    size_dist = sorted(list(community.values()))\n",
    "    hist = {}\n",
    "    for item in size_dist:\n",
    "        if item not in hist.keys():\n",
    "            hist[item] = 1\n",
    "        else:\n",
    "            hist[item] += 1\n",
    "    \n",
    "    names = sorted(list(hist.keys()))\n",
    "    values = [hist[key] for key in names]\n",
    "    plt.xlabel(\"community_size\")\n",
    "    plt.ylabel(\"Frequency\")\n",
    "    plt.title(\"Distribution of ground_truth_communities\")\n",
    "    plt.bar(range(len(hist)), values, tick_label=names)\n",
    "    plt.show()\n",
    "    plt.savefig('./results/'+'ground_truth_communities_dist_'+com_name+'_'+method_name+'.png')\n",
    "    "
   ]
  },
  {
   "cell_type": "code",
   "execution_count": 139,
   "id": "0a96f859",
   "metadata": {},
   "outputs": [
    {
     "data": {
      "image/png": "[encoded data removed]",
      "text/plain": [
       "<Figure size 432x288 with 1 Axes>"
      ]
     },
     "metadata": {
      "needs_background": "light"
     },
     "output_type": "display_data"
    },
    {
     "data": {
      "image/png": "[encoded data removed]",
      "text/plain": [
       "<Figure size 432x288 with 1 Axes>"
      ]
     },
     "metadata": {
      "needs_background": "light"
     },
     "output_type": "display_data"
    },
    {
     "data": {
      "text/plain": [
       "<Figure size 432x288 with 0 Axes>"
      ]
     },
     "metadata": {},
     "output_type": "display_data"
    }
   ],
   "source": [
    "##Q_1_C\n",
    "Q_1_C(football,'Football','NEWMAN')\n",
    "Q_1_C(polbooks,'Polbooks','NEWMAN')"
   ]
  },
  {
   "cell_type": "code",
   "execution_count": 152,
   "id": "8da6987c",
   "metadata": {},
   "outputs": [],
   "source": [
    "def edges(graph,community):\n",
    "    sub_graph = graph.subgraph(community)\n",
    "    return sub_graph.size()"
   ]
  },
  {
   "cell_type": "code",
   "execution_count": 194,
   "id": "291d41ba",
   "metadata": {},
   "outputs": [],
   "source": [
    "def Q_1_D(graph,community,dataset):\n",
    "    n = min(5, len(community))\n",
    "    for com in community[:n]:\n",
    "        print(f\"nodes = {len(com)}, edges = {edges(graph, com)} for {dataset}\")"
   ]
  },
  {
   "cell_type": "code",
   "execution_count": 195,
   "id": "1a462afc",
   "metadata": {},
   "outputs": [
    {
     "name": "stdout",
     "output_type": "stream",
     "text": [
      "nodes = 15, edges = 57 for Football\n",
      "nodes = 13, edges = 50 for Football\n",
      "nodes = 12, edges = 48 for Football\n",
      "nodes = 11, edges = 44 for Football\n",
      "nodes = 10, edges = 40 for Football\n",
      "#########################################\n",
      "nodes = 53, edges = 213 for Polbook\n",
      "nodes = 45, edges = 183 for Polbook\n",
      "nodes = 7, edges = 16 for Polbook\n"
     ]
    }
   ],
   "source": [
    "Q_1_D(football,com_football,'Football')\n",
    "print('#'*41)\n",
    "Q_1_D(polbooks,com_polbook,'Polbook')"
   ]
  },
  {
   "cell_type": "code",
   "execution_count": 198,
   "id": "a3bd2175",
   "metadata": {},
   "outputs": [],
   "source": [
    "def Q_1_E(graph,community,dataset):\n",
    "    nod = graph.number_of_nodes()\n",
    "    edg = graph.number_of_edges()\n",
    "    n = min(5, len(community))\n",
    "    for idx,com in enumerate(community[:n]):\n",
    "        print(f\"coverage for {idx} = {edges(graph, com)/edg} for {dataset}\")"
   ]
  },
  {
   "cell_type": "code",
   "execution_count": 201,
   "id": "bf3b638d",
   "metadata": {},
   "outputs": [
    {
     "name": "stdout",
     "output_type": "stream",
     "text": [
      "coverage for 0 = 0.0929853181076672 for Football\n",
      "coverage for 1 = 0.08156606851549755 for Football\n",
      "coverage for 2 = 0.07830342577487764 for Football\n",
      "coverage for 3 = 0.07177814029363784 for Football\n",
      "coverage for 4 = 0.06525285481239804 for Football\n",
      "#########################################\n",
      "coverage for 0 = 0.48299319727891155 for Polbook\n",
      "coverage for 1 = 0.41496598639455784 for Polbook\n",
      "coverage for 2 = 0.036281179138321996 for Polbook\n"
     ]
    }
   ],
   "source": [
    "Q_1_E(football,com_football,'Football')\n",
    "print('#'*41)\n",
    "Q_1_E(polbooks,com_polbook,'Polbook')"
   ]
  },
  {
   "cell_type": "code",
   "execution_count": 178,
   "id": "64e59c4a",
   "metadata": {},
   "outputs": [],
   "source": [
    "def jaccard(set_a,set_b):\n",
    "    set_c = set_a.intersection(set_b)\n",
    "    return float(len(set_c)) / (len(set_a) + len(set_b) - len(set_c))"
   ]
  },
  {
   "cell_type": "code",
   "execution_count": 179,
   "id": "6c10ddcd",
   "metadata": {},
   "outputs": [],
   "source": [
    "def gt_com(dataset):\n",
    "    gt_data = {}\n",
    "    for node in dataset.nodes(data=True):\n",
    "        n,v = node\n",
    "        com = v[\"value\"]\n",
    "        if com not in gt_data.keys():\n",
    "            gt_data[com] = []\n",
    "        gt_data[com].append(n)\n",
    "    # sort gt\n",
    "    gt_com_sorted = list(sorted(gt_data.items(), key = lambda x: len(x[1]), reverse=True))\n",
    "    gt_com_sorted = [sorted(v) for c,v in gt_com_sorted]\n",
    "    \n",
    "    return gt_com_sorted[0]"
   ]
  },
  {
   "cell_type": "code",
   "execution_count": 180,
   "id": "311ee141",
   "metadata": {},
   "outputs": [],
   "source": [
    "def Q_1_F(dataset,community,data_name):\n",
    "    gt_com(dataset)\n",
    "    set_a = set(gt_com(dataset))\n",
    "    set_b = set(community[0])\n",
    "    print(f\"jaccard for {data_name} = {jaccard(set_a,set_b)}\")\n",
    "    "
   ]
  },
  {
   "cell_type": "code",
   "execution_count": 181,
   "id": "079093e4",
   "metadata": {},
   "outputs": [
    {
     "name": "stdout",
     "output_type": "stream",
     "text": [
      "jaccard for Football = 0.8666666666666667\n",
      "#########################################\n",
      "jaccard for Polbook = 0.8214285714285714\n"
     ]
    }
   ],
   "source": [
    "Q_1_F(football,com_football,'Football')\n",
    "print('#'*41)\n",
    "Q_1_F(polbooks,com_polbook,'Polbook')"
   ]
  },
  {
   "cell_type": "code",
   "execution_count": null,
   "id": "34fa8e9a",
   "metadata": {},
   "outputs": [],
   "source": []
  },
  {
   "cell_type": "markdown",
   "id": "78e46790",
   "metadata": {},
   "source": [
    "# CLAUSET_METHOD"
   ]
  },
  {
   "cell_type": "code",
   "execution_count": 184,
   "id": "457ee9fe",
   "metadata": {},
   "outputs": [],
   "source": [
    "def q_1_a(dataset,data_name):\n",
    "    clauset_communities = [list(x) for x in nx.algorithms.community.greedy_modularity_communities(dataset)]\n",
    "    clauset_communities = sorted(clauset_communities, key = lambda x: len(x), reverse=True)\n",
    "    clauset_sorted = [sorted(x) for x in clauset_communities]\n",
    "    ans = len(clauset_sorted)\n",
    "    print(f\"Number of clauset_communities = {ans} for {data_name}\")\n",
    "    return clauset_sorted"
   ]
  },
  {
   "cell_type": "code",
   "execution_count": 185,
   "id": "8cb2b4af",
   "metadata": {},
   "outputs": [
    {
     "name": "stdout",
     "output_type": "stream",
     "text": [
      "Number of clauset_communities = 6 for Football\n",
      "#########################################\n",
      "Number of clauset_communities = 4 for Polbook\n"
     ]
    }
   ],
   "source": [
    "football_clauset = q_1_a(football,'Football')\n",
    "print('#'*41)\n",
    "polbook_clauset = q_1_a(polbooks,'Polbook')"
   ]
  },
  {
   "cell_type": "code",
   "execution_count": 191,
   "id": "86ba1341",
   "metadata": {},
   "outputs": [],
   "source": [
    "def q_1_b(com,method_name,com_name):\n",
    "    hist = {}\n",
    "    for idx, member in enumerate(com):\n",
    "        if len(member) not in hist.keys():\n",
    "            hist[len(member)] = 1\n",
    "        else:\n",
    "            hist[len(member)] += 1\n",
    "    \n",
    "    names = sorted(list(hist.keys()))\n",
    "    values = [hist[key] for key in names]\n",
    "    plt.xlabel(\"community_size\")\n",
    "    plt.ylabel(\"Frequency\")\n",
    "    plt.title(\"Distribution of generated communities\")\n",
    "    plt.bar(range(len(hist)), values, tick_label=names)\n",
    "    plt.show()\n",
    "    plt.savefig('./results/'+com_name+'_'+method_name+'_dist.png')"
   ]
  },
  {
   "cell_type": "code",
   "execution_count": 192,
   "id": "681dd6c0",
   "metadata": {},
   "outputs": [
    {
     "data": {
      "image/png": "[encoded data removed]",
      "text/plain": [
       "<Figure size 432x288 with 1 Axes>"
      ]
     },
     "metadata": {
      "needs_background": "light"
     },
     "output_type": "display_data"
    },
    {
     "name": "stdout",
     "output_type": "stream",
     "text": [
      "#########################################\n"
     ]
    },
    {
     "data": {
      "image/png": "[encoded data removed]",
      "text/plain": [
       "<Figure size 432x288 with 1 Axes>"
      ]
     },
     "metadata": {
      "needs_background": "light"
     },
     "output_type": "display_data"
    },
    {
     "data": {
      "text/plain": [
       "<Figure size 432x288 with 0 Axes>"
      ]
     },
     "metadata": {},
     "output_type": "display_data"
    }
   ],
   "source": [
    "q_1_b(football_clauset,'CLAUSET','Football')\n",
    "print('#'*41)\n",
    "q_1_b(polbook_clauset,'CLAUSET','Polbook')"
   ]
  },
  {
   "cell_type": "code",
   "execution_count": 204,
   "id": "0a06d144",
   "metadata": {},
   "outputs": [
    {
     "data": {
      "image/png": "[encoded data removed]",
      "text/plain": [
       "<Figure size 432x288 with 1 Axes>"
      ]
     },
     "metadata": {
      "needs_background": "light"
     },
     "output_type": "display_data"
    },
    {
     "data": {
      "image/png": "[encoded data removed]",
      "text/plain": [
       "<Figure size 432x288 with 1 Axes>"
      ]
     },
     "metadata": {
      "needs_background": "light"
     },
     "output_type": "display_data"
    },
    {
     "data": {
      "text/plain": [
       "<Figure size 432x288 with 0 Axes>"
      ]
     },
     "metadata": {},
     "output_type": "display_data"
    }
   ],
   "source": [
    "##Q_1_C (Same_as_Above)\n",
    "Q_1_C(football,'Football','NEWMAN')\n",
    "Q_1_C(polbooks,'Polbooks','NEWMAN')"
   ]
  },
  {
   "cell_type": "code",
   "execution_count": 197,
   "id": "e7662759",
   "metadata": {},
   "outputs": [
    {
     "name": "stdout",
     "output_type": "stream",
     "text": [
      "nodes = 27, edges = 107 for Football\n",
      "nodes = 25, edges = 105 for Football\n",
      "nodes = 21, edges = 77 for Football\n",
      "nodes = 19, edges = 78 for Football\n",
      "nodes = 13, edges = 50 for Football\n",
      "#########################################\n",
      "nodes = 49, edges = 201 for Polbook\n",
      "nodes = 41, edges = 176 for Polbook\n",
      "nodes = 12, edges = 25 for Polbook\n",
      "nodes = 3, edges = 3 for Polbook\n"
     ]
    }
   ],
   "source": [
    "####1_d######\n",
    "Q_1_D(football,football_clauset,'Football')\n",
    "print('#'*41)\n",
    "Q_1_D(polbooks,polbook_clauset,'Polbook')"
   ]
  },
  {
   "cell_type": "code",
   "execution_count": 202,
   "id": "51803481",
   "metadata": {},
   "outputs": [
    {
     "name": "stdout",
     "output_type": "stream",
     "text": [
      "coverage for 0 = 0.17455138662316477 for Football\n",
      "coverage for 1 = 0.17128874388254486 for Football\n",
      "coverage for 2 = 0.12561174551386622 for Football\n",
      "coverage for 3 = 0.1272430668841762 for Football\n",
      "coverage for 4 = 0.08156606851549755 for Football\n",
      "#########################################\n",
      "coverage for 0 = 0.4557823129251701 for Polbook\n",
      "coverage for 1 = 0.39909297052154197 for Polbook\n",
      "coverage for 2 = 0.05668934240362812 for Polbook\n",
      "coverage for 3 = 0.006802721088435374 for Polbook\n"
     ]
    }
   ],
   "source": [
    "#####1_e######\n",
    "Q_1_E(football,football_clauset,'Football')\n",
    "print('#'*41)\n",
    "Q_1_E(polbooks,polbook_clauset,'Polbook')"
   ]
  },
  {
   "cell_type": "code",
   "execution_count": 203,
   "id": "e9e12e75",
   "metadata": {},
   "outputs": [
    {
     "name": "stdout",
     "output_type": "stream",
     "text": [
      "jaccard for Football = 0.0\n",
      "#########################################\n",
      "jaccard for Polbook = 0.7818181818181819\n"
     ]
    }
   ],
   "source": [
    "#######1_F#######\n",
    "Q_1_F(football,football_clauset,'Football')\n",
    "print('#'*41)\n",
    "Q_1_F(polbooks,polbook_clauset,'Polbook')"
   ]
  }
 ],
 "metadata": {
  "kernelspec": {
   "display_name": "Python 3 (ipykernel)",
   "language": "python",
   "name": "python3"
  },
  "language_info": {
   "codemirror_mode": {
    "name": "ipython",
    "version": 3
   },
   "file_extension": ".py",
   "mimetype": "text/x-python",
   "name": "python",
   "nbconvert_exporter": "python",
   "pygments_lexer": "ipython3",
   "version": "3.9.7"
  }
 },
 "nbformat": 4,
 "nbformat_minor": 5
}
