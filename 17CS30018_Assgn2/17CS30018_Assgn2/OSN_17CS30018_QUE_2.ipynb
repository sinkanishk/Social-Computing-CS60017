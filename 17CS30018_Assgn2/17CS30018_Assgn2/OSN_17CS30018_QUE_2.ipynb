{
 "cells": [
  {
   "cell_type": "code",
   "execution_count": 1,
   "id": "f3d680c0",
   "metadata": {},
   "outputs": [
    {
     "name": "stdout",
     "output_type": "stream",
     "text": [
      "\u001b[33mDEPRECATION: Configuring installation scheme with distutils config files is deprecated and will no longer work in the near future. If you are using a Homebrew or Linuxbrew Python, please see discussion at https://github.com/Homebrew/homebrew-core/issues/76621\u001b[0m\n",
      "Requirement already satisfied: networkx in /usr/local/lib/python3.9/site-packages (2.6.3)\n",
      "\u001b[33mWARNING: You are using pip version 21.2.4; however, version 21.3.1 is available.\n",
      "You should consider upgrading via the '/usr/local/opt/python@3.9/bin/python3.9 -m pip install --upgrade pip' command.\u001b[0m\n"
     ]
    }
   ],
   "source": [
    "!pip install networkx"
   ]
  },
  {
   "cell_type": "code",
   "execution_count": 2,
   "id": "25ebbf01",
   "metadata": {},
   "outputs": [],
   "source": [
    "## imports\n",
    "import networkx as nx\n",
    "import itertools\n",
    "import matplotlib.pyplot as plt"
   ]
  },
  {
   "cell_type": "code",
   "execution_count": 3,
   "id": "7cd4f1df",
   "metadata": {},
   "outputs": [],
   "source": [
    "## create directories IF_DO_NOT_EXIST\n",
    "from pathlib import Path\n",
    "Path(\"./results\").mkdir(parents=True, exist_ok=True)\n",
    "Path(\"./plots\").mkdir(parents=True, exist_ok=True)\n"
   ]
  },
  {
   "cell_type": "code",
   "execution_count": 4,
   "id": "214914d5",
   "metadata": {},
   "outputs": [],
   "source": [
    "def get_graph(fp):\n",
    "    \n",
    "    nodes = 0\n",
    "    edges = 0\n",
    "    DEBUG = 0\n",
    "    imdb = nx.Graph()\n",
    "    adj  =  open(fp, \"r\")\n",
    "\n",
    "    with open(fp, \"r\") as adj_list:\n",
    "        for line in adj_list:\n",
    "            if nodes == 0:\n",
    "                if DEBUG:\n",
    "                    print(f\"nodes = {nodes}\")\n",
    "                u, j  = line.split(\",\")\n",
    "                nodes = int(u.strip())\n",
    "                for i in range(nodes):\n",
    "                    imdb.add_node(str(i))\n",
    "                if DEBUG:\n",
    "                    print(f\"nodes = {nodes}\")\n",
    "                continue\n",
    "            u, v, w = line.split(\",\")\n",
    "            imdb.add_edge(u.strip(), v.strip())\n",
    "            edges += 1\n",
    "    if DEBUG:\n",
    "        print(f\"DEBUG = {DEBUG}\")\n",
    "    return imdb"
   ]
  },
  {
   "cell_type": "markdown",
   "id": "6f1387fb",
   "metadata": {},
   "source": [
    "# BUILTIN_"
   ]
  },
  {
   "cell_type": "code",
   "execution_count": 5,
   "id": "4f6afc27",
   "metadata": {},
   "outputs": [],
   "source": [
    "##read input files\n",
    "fp = \"./imdb_prodco.adj\"\n",
    "imdb_data = get_graph(fp)\n",
    "cen_lib = nx.closeness_centrality(imdb_data)\n",
    "cen_lib = sorted(cen_lib.items(), key=lambda x: x[1], reverse=True)"
   ]
  },
  {
   "cell_type": "code",
   "execution_count": 6,
   "id": "ecc63149",
   "metadata": {},
   "outputs": [
    {
     "data": {
      "image/png": "[encoded data removed]",
      "text/plain": [
       "<Figure size 432x288 with 1 Axes>"
      ]
     },
     "metadata": {
      "needs_background": "light"
     },
     "output_type": "display_data"
    }
   ],
   "source": [
    "out_fp = './plots/closeness_dist_INBUILT.png'\n",
    "cen_values = [value for key,value in cen_lib]\n",
    "plt.figure()\n",
    "plt.hist(cen_values, bins=25)\n",
    "plt.savefig(out_fp)"
   ]
  },
  {
   "cell_type": "markdown",
   "id": "07f6702d",
   "metadata": {},
   "source": [
    "# Implementation"
   ]
  },
  {
   "cell_type": "code",
   "execution_count": 7,
   "id": "caecbd97",
   "metadata": {},
   "outputs": [],
   "source": [
    "def bfs_nod(graph, source):\n",
    "\n",
    "        n = graph.number_of_nodes()\n",
    "        bfs_traverse = []\n",
    "\n",
    "        # keep track of nodes traversed already\n",
    "        is_visited = [False] * n\n",
    "        d = [1e9]*n\n",
    "        # Queue used for keeping track of next node to be travelled - start with Source\n",
    "        queue = [source]\n",
    "\n",
    "        # mark source as visited (as its already added to queue_\n",
    "        is_visited[source] = True\n",
    "        d[source] = 0\n",
    "        \n",
    "        while len(queue) > 0:\n",
    "\n",
    "            # pop (first) element of the queue\n",
    "            curr_node = queue.pop(0)\n",
    "            bfs_traverse.append(curr_node)\n",
    "\n",
    "            # add the neighbouring nodes that were still not visited\n",
    "            for neighbour_node in list(graph.neighbors(str(curr_node))):\n",
    "                neighbour_node = int(neighbour_node)\n",
    "                if not is_visited[neighbour_node]:\n",
    "                    queue.append(neighbour_node)\n",
    "                    d[neighbour_node] = d[curr_node] + 1\n",
    "                    # make visited True as they join queue\n",
    "                    is_visited[neighbour_node] = True\n",
    "        \n",
    "        ans = {}\n",
    "        \n",
    "        for i in range(n):\n",
    "            if d[i]!=1e9:\n",
    "                ans[str(i)] = d[i]\n",
    "        \n",
    "        return ans\n",
    "                "
   ]
  },
  {
   "cell_type": "code",
   "execution_count": 8,
   "id": "37c0c1f1",
   "metadata": {},
   "outputs": [],
   "source": [
    "def close_cen(graph):\n",
    "    d = {}\n",
    "    N = graph.number_of_nodes()\n",
    "    for node in graph.nodes():\n",
    "        d[node] = bfs_nod(graph, int(node))\n",
    "    c_cen = {}\n",
    "    for node in graph.nodes():\n",
    "        cv = float(sum(d[node].values()))\n",
    "        n = len(d[node])-1\n",
    "        if sum(d[node].values())==0:\n",
    "            val = 0\n",
    "        else:\n",
    "            val = ((n-1)*(n-1))/(float(N-1)*cv)\n",
    "        c_cen[node] = val\n",
    "    return c_cen"
   ]
  },
  {
   "cell_type": "code",
   "execution_count": 9,
   "id": "ce3a37cd",
   "metadata": {},
   "outputs": [],
   "source": [
    "centrality = close_cen(imdb_data)\n",
    "output_2 = open(\"output_2_closeness.txt\", \"w\")\n",
    "for key in centrality.keys():\n",
    "    output_2.write(f\"{key} {centrality[key]}\\n\")"
   ]
  },
  {
   "cell_type": "code",
   "execution_count": 10,
   "id": "5ff49af8",
   "metadata": {},
   "outputs": [
    {
     "data": {
      "image/png": "[encoded data removed]",
      "text/plain": [
       "<Figure size 432x288 with 1 Axes>"
      ]
     },
     "metadata": {
      "needs_background": "light"
     },
     "output_type": "display_data"
    }
   ],
   "source": [
    "out_fp = './plots/closeness_dist_IMPLEMENTED.png'\n",
    "cen_values = [centrality[key] for key in centrality.keys()]\n",
    "plt.figure()\n",
    "plt.hist(cen_values, bins=25)\n",
    "plt.savefig(out_fp)"
   ]
  },
  {
   "cell_type": "code",
   "execution_count": 11,
   "id": "9b91f13c",
   "metadata": {},
   "outputs": [
    {
     "data": {
      "text/plain": [
       "38"
      ]
     },
     "execution_count": 11,
     "metadata": {},
     "output_type": "execute_result"
    }
   ],
   "source": [
    "###OVERLAP###\n",
    "cent_IMP = sorted(centrality.items(), key=lambda x: x[1], reverse=True)\n",
    "cent_INB = cen_lib\n",
    "imp = [key for key,value in cent_IMP[:50]]\n",
    "inb = [key for key,value in cent_INB[:50]]\n",
    "output_2 = open(\"output_2.txt\", \"w\")\n",
    "output_2.write(f\"#overlaps for Closeness Centrality: {len(list(set(imp).intersection(set(inb))))}\")"
   ]
  }
 ],
 "metadata": {
  "kernelspec": {
   "display_name": "Python 3 (ipykernel)",
   "language": "python",
   "name": "python3"
  },
  "language_info": {
   "codemirror_mode": {
    "name": "ipython",
    "version": 3
   },
   "file_extension": ".py",
   "mimetype": "text/x-python",
   "name": "python",
   "nbconvert_exporter": "python",
   "pygments_lexer": "ipython3",
   "version": "3.9.7"
  }
 },
 "nbformat": 4,
 "nbformat_minor": 5
}
