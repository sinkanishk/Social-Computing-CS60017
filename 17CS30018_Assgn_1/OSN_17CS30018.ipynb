{
 "cells": [
  {
   "cell_type": "code",
   "execution_count": 4,
   "id": "b2384e41",
   "metadata": {},
   "outputs": [],
   "source": [
    "def graph():\n",
    "    gph = snap.LoadEdgeList(snap.TUNGraph, \"facebook_combined.txt\", 0, 1)\n",
    "    return gph"
   ]
  },
  {
   "cell_type": "code",
   "execution_count": 3,
   "id": "b33aa058",
   "metadata": {},
   "outputs": [],
   "source": [
    "import os\n",
    "if os.path.isdir('plots')==False:\n",
    "    os.mkdir('plots')\n",
    "    \n",
    "import sys \n",
    "\n",
    "stdoutOrigin=sys.stdout \n",
    "sys.stdout = open(\"answer.txt\", \"w\")\n",
    "\n"
   ]
  },
  {
   "cell_type": "markdown",
   "id": "bbf55d9b",
   "metadata": {},
   "source": [
    "# Q-1) (A)"
   ]
  },
  {
   "cell_type": "code",
   "execution_count": 5,
   "id": "0589f333",
   "metadata": {},
   "outputs": [
    {
     "name": "stdout",
     "output_type": "stream",
     "text": [
      "The number of nodes in the original graph are : 4039\n"
     ]
    }
   ],
   "source": [
    "#_number_of_nodes\n",
    "import snap\n",
    "gph = graph()\n",
    "print(f'The number of nodes in the original graph are : {gph.GetNodes()}')"
   ]
  },
  {
   "cell_type": "code",
   "execution_count": 6,
   "id": "434d8387",
   "metadata": {},
   "outputs": [
    {
     "name": "stdout",
     "output_type": "stream",
     "text": [
      "The number of edges in the original graph are : 88234\n"
     ]
    }
   ],
   "source": [
    "#_number_of_edges\n",
    "print(f'The number of edges in the original graph are : {gph.GetEdges()}')"
   ]
  },
  {
   "cell_type": "code",
   "execution_count": 7,
   "id": "013124b4",
   "metadata": {},
   "outputs": [
    {
     "name": "stdout",
     "output_type": "stream",
     "text": [
      "The number of edges in the graph after removal of nodes divisible by 3 are : 39116\n",
      "The number of nodes in the graph after removal of nodes divisible by 3 are : 2692\n"
     ]
    }
   ],
   "source": [
    "def _3_is_bad(gph):\n",
    "    for node in gph.Nodes():\n",
    "        if node.GetId()%3 == 0:\n",
    "            gph.DelNode(node.GetId())\n",
    "    return gph\n",
    "\n",
    "gph = _3_is_bad(gph)\n",
    "print(f'The number of edges in the graph after removal of nodes divisible by 3 are : {gph.GetEdges()}')\n",
    "print(f'The number of nodes in the graph after removal of nodes divisible by 3 are : {gph.GetNodes()}')"
   ]
  },
  {
   "cell_type": "code",
   "execution_count": 8,
   "id": "d687f132",
   "metadata": {},
   "outputs": [
    {
     "name": "stdout",
     "output_type": "stream",
     "text": [
      "Maximum degree in the graph = 1045\n",
      "The node-id with maximum degree = 107\n"
     ]
    }
   ],
   "source": [
    "gph = graph()\n",
    "nodeid = gph.GetMxDegNId()\n",
    "degree = 0\n",
    "for node in gph.Nodes():\n",
    "    if node.GetId() == nodeid:\n",
    "        degree = node.GetDeg()\n",
    "print(f'Maximum degree in the graph = {degree}')\n",
    "for node in gph.Nodes():\n",
    "    if node.GetDeg()==degree:\n",
    "        print(f'The node-id with maximum degree = {node.GetId()}')"
   ]
  },
  {
   "cell_type": "code",
   "execution_count": 9,
   "id": "0c2321c5",
   "metadata": {},
   "outputs": [],
   "source": [
    "gph = graph()\n",
    "path_len = {}\n",
    "\n",
    "for node in gph.Nodes():\n",
    "    nodeid = node.GetId()\n",
    "    shortestPath, NIdToDistH = gph.GetShortPathAll(nodeid)\n",
    "    for item in NIdToDistH:\n",
    "        if item != nodeid:\n",
    "            length = NIdToDistH[item]\n",
    "            if length not in path_len.keys():\n",
    "                path_len[length] = 1\n",
    "            else:\n",
    "                path_len[length] += 1\n",
    "                \n",
    "for key in path_len.keys():\n",
    "    path_len[key] = int(path_len[key]/2)\n",
    "\n",
    "# path_len\n"
   ]
  },
  {
   "cell_type": "code",
   "execution_count": 10,
   "id": "307053fb",
   "metadata": {},
   "outputs": [
    {
     "data": {
      "image/png": "[encoded data removed]",
      "text/plain": [
       "<Figure size 432x288 with 1 Axes>"
      ]
     },
     "metadata": {
      "needs_background": "light"
     },
     "output_type": "display_data"
    }
   ],
   "source": [
    "import matplotlib.pyplot as plt\n",
    " \n",
    "# x-coordinates of left sides of bars\n",
    "left = []\n",
    "height = []\n",
    "for key in path_len:\n",
    "    left.append(key)\n",
    "    height.append(path_len[key])\n",
    " \n",
    " \n",
    "# plotting a bar chart\n",
    "plt.bar(left, height,\n",
    "        width = 0.2, color = ['red', 'green'])\n",
    " \n",
    "# naming the x-axis\n",
    "plt.xlabel('path_length')\n",
    "# naming the y-axis\n",
    "plt.ylabel('total_paths')\n",
    "# plot title\n",
    "plt.title('path_length_distribution!')\n",
    " \n",
    "# function to show the plot\n",
    "plt.savefig('plots/degree-distribution.png')"
   ]
  },
  {
   "cell_type": "markdown",
   "id": "cd8d80a9",
   "metadata": {},
   "source": [
    "# Q-1) (B)"
   ]
  },
  {
   "cell_type": "code",
   "execution_count": 11,
   "id": "1bffab92",
   "metadata": {},
   "outputs": [
    {
     "name": "stdout",
     "output_type": "stream",
     "text": [
      "The fraction of nodes in the largest component are 1.0\n"
     ]
    }
   ],
   "source": [
    "gpha = graph()\n",
    "print(f'The fraction of nodes in the largest component are {gpha.GetMxSccSz()}')"
   ]
  },
  {
   "cell_type": "code",
   "execution_count": 12,
   "id": "63d66734",
   "metadata": {},
   "outputs": [
    {
     "name": "stdout",
     "output_type": "stream",
     "text": [
      "The number of articulation points in the network are : 11\n"
     ]
    }
   ],
   "source": [
    "print(f'The number of articulation points in the network are : {len(gpha.GetArtPoints())}')"
   ]
  },
  {
   "cell_type": "code",
   "execution_count": 13,
   "id": "ea3ffc4a",
   "metadata": {},
   "outputs": [
    {
     "name": "stdout",
     "output_type": "stream",
     "text": [
      "The total number of connected components are : 1\n"
     ]
    }
   ],
   "source": [
    "ComponentDist = gpha.GetSccSzCnt()\n",
    "number_of_components = 0\n",
    "mp = {}\n",
    "for comp in ComponentDist:\n",
    "    number_of_components += comp.GetVal2()\n",
    "    mp[comp.GetVal1()] = comp.GetVal2()\n",
    "print(f'The total number of connected components are : {number_of_components}')"
   ]
  },
  {
   "cell_type": "code",
   "execution_count": 14,
   "id": "fcc94f3b",
   "metadata": {},
   "outputs": [
    {
     "name": "stdout",
     "output_type": "stream",
     "text": [
      "The diameter of the maximum strongly connected component is 8\n"
     ]
    }
   ],
   "source": [
    "maxscc = gpha.GetMxScc()\n",
    "print(f'The diameter of the maximum strongly connected component is {maxscc.GetBfsFullDiam(maxscc.GetNodes())}')"
   ]
  },
  {
   "cell_type": "code",
   "execution_count": 15,
   "id": "fc3123e7",
   "metadata": {},
   "outputs": [
    {
     "name": "stderr",
     "output_type": "stream",
     "text": [
      "No handles with labels found to put in legend.\n"
     ]
    },
    {
     "name": "stdout",
     "output_type": "stream",
     "text": [
      "4039 1\n"
     ]
    },
    {
     "data": {
      "image/png": "[encoded data removed]",
      "text/plain": [
       "<Figure size 432x288 with 1 Axes>"
      ]
     },
     "metadata": {
      "needs_background": "light"
     },
     "output_type": "display_data"
    }
   ],
   "source": [
    "import matplotlib.pyplot as plt\n",
    " \n",
    "left = []\n",
    "height = []\n",
    "for key in mp:\n",
    "    left.append(key)\n",
    "    height.append(mp[key])\n",
    "    print(key,mp[key])\n",
    " \n",
    " \n",
    "# plotting points as a scatter plot\n",
    "plt.scatter(left, height, color= \"green\",\n",
    "            marker= \"*\", s=30)\n",
    " \n",
    "# x-axis label\n",
    "plt.xlabel('component_size')\n",
    "# frequency label\n",
    "plt.ylabel('component_number')\n",
    "# plot title\n",
    "plt.title('Connected_Components_Distribution')\n",
    "# showing legend\n",
    "plt.legend()\n",
    " \n",
    "# function to show the plot\n",
    "plt.savefig('plots/Connected_Components.png')"
   ]
  },
  {
   "cell_type": "markdown",
   "id": "9921693a",
   "metadata": {},
   "source": [
    "# Q-2"
   ]
  },
  {
   "cell_type": "code",
   "execution_count": 16,
   "id": "af996fba",
   "metadata": {},
   "outputs": [],
   "source": [
    "def graph_2nd():\n",
    "    gph = snap.LoadEdgeList(snap.TNGraph, \"email-EuAll.txt\", 0, 1)\n",
    "    return gph"
   ]
  },
  {
   "cell_type": "code",
   "execution_count": 17,
   "id": "80ddbc51",
   "metadata": {},
   "outputs": [
    {
     "name": "stdout",
     "output_type": "stream",
     "text": [
      "Number of nodes : 265214\n",
      "Number of edges : 420045\n"
     ]
    }
   ],
   "source": [
    "gphb = graph_2nd()\n",
    "\n",
    "# A(a)\n",
    "print(f'Number of nodes : {gphb.GetNodes()}')\n",
    "\n",
    "#A(b)\n",
    "print(f'Number of edges : {gphb.GetEdges()}')"
   ]
  },
  {
   "cell_type": "code",
   "execution_count": 18,
   "id": "b9df6ca3",
   "metadata": {},
   "outputs": [
    {
     "name": "stdout",
     "output_type": "stream",
     "text": [
      "Number of nodes with degree = 4 are 4732\n"
     ]
    }
   ],
   "source": [
    "map_deg = {}\n",
    "for node in gphb.Nodes():\n",
    "    deg = node.GetInDeg() + node.GetOutDeg()\n",
    "    if deg not in map_deg.keys():\n",
    "        map_deg[deg] = 1\n",
    "    else:\n",
    "        map_deg[deg] += 1\n",
    "print(f'Number of nodes with degree = 4 are {map_deg[4]}')\n",
    "# map_deg"
   ]
  },
  {
   "cell_type": "code",
   "execution_count": 19,
   "id": "de797ce4",
   "metadata": {},
   "outputs": [
    {
     "data": {
      "image/png": "[encoded data removed]",
      "text/plain": [
       "<Figure size 432x288 with 1 Axes>"
      ]
     },
     "metadata": {
      "needs_background": "light"
     },
     "output_type": "display_data"
    },
    {
     "data": {
      "text/plain": [
       "<Figure size 432x288 with 0 Axes>"
      ]
     },
     "metadata": {},
     "output_type": "display_data"
    }
   ],
   "source": [
    "import matplotlib.pyplot as plt\n",
    " \n",
    "left = []\n",
    "height = []\n",
    "for key in sorted(map_deg.keys()):\n",
    "    left.append(key)\n",
    "    height.append(map_deg[key])\n",
    " \n",
    "# print(left)\n",
    "# plotting points as a scatter plot\n",
    "# plotting a bar chart\n",
    "plt.plot(left[0:30], height[0:30])\n",
    " \n",
    "# x-axis label\n",
    "plt.xlabel('degree')\n",
    "# frequency label\n",
    "plt.ylabel('size')\n",
    "# plot title\n",
    "plt.title('Degree_Distribution')\n",
    "# showing legend\n",
    "plt.show()\n",
    " \n",
    "# function to show the plot\n",
    "plt.savefig('plots/deg-dib.png')"
   ]
  },
  {
   "cell_type": "code",
   "execution_count": 20,
   "id": "171fd22e",
   "metadata": {},
   "outputs": [
    {
     "name": "stdout",
     "output_type": "stream",
     "text": [
      "The number of edges are 151930 and nodes are 34203 in the maximal strongest connected component.\n",
      "The number of edges are 395270 and nodes are 224832 in the maximal weakly connected component.\n"
     ]
    }
   ],
   "source": [
    "## WCC AND SCC\n",
    "MxScc = gphb.GetMxScc()\n",
    "MxWcc = gphb.GetMxWcc()\n",
    "print(f'The number of edges are {MxScc.GetEdges()} and nodes are {MxScc.GetNodes()} in the maximal strongest connected component.')\n",
    "print(f'The number of edges are {MxWcc.GetEdges()} and nodes are {MxWcc.GetNodes()} in the maximal weakly connected component.')"
   ]
  },
  {
   "cell_type": "code",
   "execution_count": 21,
   "id": "7a0a04fd",
   "metadata": {},
   "outputs": [
    {
     "name": "stdout",
     "output_type": "stream",
     "text": [
      "Number of triangles are 267313\n"
     ]
    }
   ],
   "source": [
    "## Triangle and Rectangle\n",
    "print(f'Number of triangles are {gphb.GetTriads(-1)}')"
   ]
  },
  {
   "cell_type": "code",
   "execution_count": 22,
   "id": "31fdcbc8",
   "metadata": {},
   "outputs": [
    {
     "name": "stdout",
     "output_type": "stream",
     "text": [
      "The average clustering coefficient is 0.06708495948944604\n"
     ]
    }
   ],
   "source": [
    "print(f'The average clustering coefficient is {gphb.GetClustCf(-1)}')"
   ]
  },
  {
   "cell_type": "code",
   "execution_count": 23,
   "id": "d65b8889",
   "metadata": {},
   "outputs": [
    {
     "name": "stdout",
     "output_type": "stream",
     "text": [
      "Number of rectangles are 437\n"
     ]
    }
   ],
   "source": [
    "vis = set()\n",
    "cur_vis = set()\n",
    "cur_path = []\n",
    "rectangles = 0\n",
    "\n",
    "g = {}\n",
    "for edge in gphb.Edges():\n",
    "    src = edge.GetSrcNId()\n",
    "    des = edge.GetDstNId()\n",
    "    if src not in g.keys():\n",
    "        g[src] = [des]\n",
    "    else:\n",
    "        g[src].append(des)\n",
    "    \n",
    "\n",
    "def dfs(at):\n",
    "    global rectangles \n",
    "    cur_path.append(at)\n",
    "    cur_vis.add(at)\n",
    "    vis.add(at)\n",
    "    if at in g.keys():\n",
    "        for to in g[at]:\n",
    "            if to in cur_vis:\n",
    "                path_len = len(cur_path)\n",
    "                if(path_len >=4 and cur_path[path_len-4] == to):\n",
    "                    rectangles += 1\n",
    "            elif to not in vis :\n",
    "                dfs(to)\n",
    "    cur_vis.remove(at)\n",
    "    cur_path.pop()\n",
    "    \n",
    "for node in gphb.Nodes():\n",
    "    nodeid = node.GetId()\n",
    "    dfs(nodeid)\n",
    "\n",
    "print(f'Number of rectangles are {rectangles}')"
   ]
  },
  {
   "cell_type": "code",
   "execution_count": null,
   "id": "a38b1fe1",
   "metadata": {},
   "outputs": [],
   "source": [
    "sys.stdout.close()\n",
    "sys.stdout=stdoutOrigin"
   ]
  }
 ],
 "metadata": {
  "kernelspec": {
   "display_name": "Python 3 (ipykernel)",
   "language": "python",
   "name": "python3"
  },
  "language_info": {
   "codemirror_mode": {
    "name": "ipython",
    "version": 3
   },
   "file_extension": ".py",
   "mimetype": "text/x-python",
   "name": "python",
   "nbconvert_exporter": "python",
   "pygments_lexer": "ipython3",
   "version": "3.9.7"
  }
 },
 "nbformat": 4,
 "nbformat_minor": 5
}
